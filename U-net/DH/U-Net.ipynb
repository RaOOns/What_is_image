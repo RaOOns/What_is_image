{
 "cells": [
  {
   "cell_type": "code",
   "execution_count": 1,
   "id": "b34eb337-c6f5-411d-8fa7-6d4cc63ab657",
   "metadata": {
    "execution": {
     "iopub.execute_input": "2024-09-03T07:05:34.610264Z",
     "iopub.status.busy": "2024-09-03T07:05:34.609260Z",
     "iopub.status.idle": "2024-09-03T07:05:42.770389Z",
     "shell.execute_reply": "2024-09-03T07:05:42.770389Z",
     "shell.execute_reply.started": "2024-09-03T07:05:34.610264Z"
    }
   },
   "outputs": [],
   "source": [
    "import tensorflow as tf\n",
    "from tensorflow.keras.layers import (Conv2D, MaxPooling2D, Conv2DTranspose,\n",
    "                                     Activation, BatchNormalization, Concatenate)"
   ]
  },
  {
   "cell_type": "code",
   "execution_count": 2,
   "id": "243636e8-9d56-406f-9d4c-1f93968274cf",
   "metadata": {
    "execution": {
     "iopub.execute_input": "2024-09-03T08:26:41.317542Z",
     "iopub.status.busy": "2024-09-03T08:26:41.317542Z",
     "iopub.status.idle": "2024-09-03T08:26:41.321441Z",
     "shell.execute_reply": "2024-09-03T08:26:41.321441Z",
     "shell.execute_reply.started": "2024-09-03T08:26:41.317542Z"
    }
   },
   "outputs": [],
   "source": [
    "class ConvBlock(tf.keras.layers.Layer):\n",
    "\n",
    "    def __init__(self, n_filters):\n",
    "        super(ConvBlock, self).__init__() # 부모 클래스의 초기화 메서드로 ConvBlock 클래스가 tf.keras.layers.Layer의 모든 속성과 기능을 정상적으로 상속받고 초기화되도록 보장\n",
    "                                             # 이는 객체 지향 프로그래밍에서 상속과 초기화를 다룰 때 매우 중요한 부분\n",
    "\n",
    "        self.conv1 = conv2D(n_filters, 3, padding = \"same\") # (필터의 개수(etc RGB), 커널 크기(확인해 나갈 크기), 입력과 출력의 크기를 동일하게 유지)\n",
    "        self.conv2 = conv2D(n_filters, 3, padding = \"same\")\n",
    "\n",
    "        self.bn1 = BatchNormalization() # 각 배치의 출력값을 정규\n",
    "        self.bn2 = BatchNormalization()\n",
    "\n",
    "        self.activation = Activation(\"relu\") # 활성화 함수로 ReLU사용(음수 = 0)\n",
    "\n",
    "    def call(self, inputs):\n",
    "        x = self.conv1(inputs)\n",
    "        x = self.bn1(x)\n",
    "        x = self.activation(x)\n",
    "\n",
    "        x = self.conv2(x)\n",
    "        x = self.bn2(x)\n",
    "        x = self.activation(x)\n",
    "\n",
    "        return x"
   ]
  },
  {
   "cell_type": "code",
   "execution_count": 3,
   "id": "6ad0b8ad-8664-4f4b-85b8-70177217b48c",
   "metadata": {
    "execution": {
     "iopub.execute_input": "2024-09-03T08:31:08.766937Z",
     "iopub.status.busy": "2024-09-03T08:31:08.766937Z",
     "iopub.status.idle": "2024-09-03T08:31:08.771243Z",
     "shell.execute_reply": "2024-09-03T08:31:08.771243Z",
     "shell.execute_reply.started": "2024-09-03T08:31:08.766937Z"
    }
   },
   "outputs": [],
   "source": [
    "class EncoderBlock(tf.keras.layers.Layer):\n",
    "\n",
    "    def __init__(self, n_filter):\n",
    "        super(EncoderBlock, self).__init__()\n",
    "\n",
    "        self.conv_blk = ConvBlock(n_filters)\n",
    "        self.pool = MaxPooling2D((2,2)) # 2x2 영역에서 최대값으로 다운샘플링 수행\n",
    "\n",
    "    def call(self, inputs):\n",
    "        x = self.conv_blk(inputs)\n",
    "        p = self.pool(x)\n",
    "\n",
    "        return x, p"
   ]
  },
  {
   "cell_type": "code",
   "execution_count": 4,
   "id": "3cb84291-21a2-42fb-8dcf-262ca671c764",
   "metadata": {
    "execution": {
     "iopub.execute_input": "2024-09-03T10:38:30.670616Z",
     "iopub.status.busy": "2024-09-03T10:38:30.670616Z",
     "iopub.status.idle": "2024-09-03T10:38:30.674990Z",
     "shell.execute_reply": "2024-09-03T10:38:30.674990Z",
     "shell.execute_reply.started": "2024-09-03T10:38:30.670616Z"
    }
   },
   "outputs": [],
   "source": [
    "class DecoderBlock(tf.keras.layers.Layer):\n",
    "    \n",
    "    def __init__(self, n_filters):\n",
    "        super(DecoderBlock, self).__init__()\n",
    "\n",
    "        self.up = Conv2DTranspose(n_fitlers, (2,2), strides = 2, padding = \"same\") #  2D 이미지 데이터를 업샘플링하는 데 사용\n",
    "                                                                                   # 출력의 채널 수, 필터의 크기, 업샘플링 단계 크기(2: 출력 이미지의 크기는 입력이미지의 2배), 입력 크기와 동일한 출력 크기를 생성, 활성화 함수 지정)            \n",
    "        self.conv_blk = convBlock(n_filters)\n",
    "\n",
    "    def call(self, inputs, skip):\n",
    "        x = self.up(inputs)\n",
    "        x = Concatenate()([x, skip])\n",
    "        x = self.conv_blk(x)\n",
    "\n",
    "        return x"
   ]
  },
  {
   "cell_type": "code",
   "execution_count": null,
   "id": "e74cd5e5-e045-414b-ab84-26b8ef808f49",
   "metadata": {},
   "outputs": [],
   "source": [
    "class UNET(tf.keras.Model):\n",
    "    \n",
    "    def __init__(self, n_classes):\n",
    "        super(UNET, self).__init__()\n",
    "\n",
    "        # Encoder\n",
    "        self.e1 = EncoderBlock(64)\n",
    "        self.e2 = EncoderBlock(128)\n",
    "        self.e3 = EncoderBlock(256)\n",
    "        self.e4 = EncoderBlock(512)\n",
    "\n",
    "        # Bridge\n",
    "        self.b = ConvBlock(1024)\n",
    "\n",
    "        # Decoder\n",
    "        self.d1 = DecoderBlock(512)\n",
    "        self.d2 = DecoderBlock(256)\n",
    "        self.d3 = DecoderBlock(128)\n",
    "        self.d4 = DecoderBlock(64)\n",
    "\n",
    "        # Outputs\n",
    "        if n_classes == 1:\n",
    "            activation = \"sigmoid\"\n",
    "        else:\n",
    "            activation = \"softmax\"\n",
    "\n",
    "        self.outputs = Conv2D(n_classes, 1, padding = \"same\", activation = activation)\n",
    "\n",
    "\n",
    "    def call(self, inputs):\n",
    "        s1, p1 = self.e1(intputs)\n",
    "        s2, p2 = self.e2(p1)\n",
    "        s3, p3 = self.e3(p2)\n",
    "        s4, p4 = self.e4(p3)\n",
    "\n",
    "        b = self.b(p4)\n",
    "\n",
    "        d1 = self.d1(b, s4)\n",
    "        d2 = self.d2(d1, s3)\n",
    "        d3 = self.d3(d2, s2)\n",
    "        d4 = self.d4(d3, s1)\n",
    "\n",
    "        outputs = self.outputs(d4)"
   ]
  }
 ],
 "metadata": {
  "kernelspec": {
   "display_name": "Python 3 (ipykernel)",
   "language": "python",
   "name": "python3"
  },
  "language_info": {
   "codemirror_mode": {
    "name": "ipython",
    "version": 3
   },
   "file_extension": ".py",
   "mimetype": "text/x-python",
   "name": "python",
   "nbconvert_exporter": "python",
   "pygments_lexer": "ipython3",
   "version": "3.12.4"
  }
 },
 "nbformat": 4,
 "nbformat_minor": 5
}
